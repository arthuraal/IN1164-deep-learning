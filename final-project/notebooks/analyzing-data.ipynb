{
 "cells": [
  {
   "cell_type": "code",
   "execution_count": 1,
   "outputs": [],
   "source": [
    "import os\n",
    "import json\n",
    "import random\n",
    "\n",
    "import pandas as pd"
   ],
   "metadata": {
    "collapsed": false,
    "pycharm": {
     "name": "#%%\n"
    }
   }
  },
  {
   "cell_type": "code",
   "execution_count": 60,
   "outputs": [],
   "source": [
    "AQUA_PATH = '../data/cot_data/aqua_train.tsv'\n",
    "CREAK_PATH = '../data/cot_data/creak_train.tsv'\n",
    "ECQA_PATH = '../data/cot_data/ecqa_train.tsv'\n",
    "ESNLI_PATH = '../data/cot_data/esnli_train.tsv'\n",
    "GSM8K_PATH = '../data/cot_data/gsm8k_train.tsv'\n",
    "QASC_PATH = '../data/cot_data/qasc_train.tsv'\n",
    "QED_PATH = '../data/cot_data/qed_train.tsv'\n",
    "SENSEMAKING_PATH = '../data/cot_data/sensemaking_train.tsv'\n",
    "STRATEGYQA_PATH ='../data/cot_data/strategyqa_train.tsv'"
   ],
   "metadata": {
    "collapsed": false,
    "pycharm": {
     "name": "#%%\n"
    }
   }
  },
  {
   "cell_type": "code",
   "execution_count": 54,
   "outputs": [],
   "source": [
    "def get_data_info(data_path):\n",
    "    \"\"\"\n",
    "    This function takes in a Pandas dataframe and returns information about the dataframe,\n",
    "    including shape, memory usage, and statistics on numerical columns.\n",
    "    \"\"\"\n",
    "    print(f'Data path: {data_path}')\n",
    "    data = pd.read_csv(data_path, sep='\\t', header=None)\n",
    "    data.columns = ['question', 'answer', 'rationale']\n",
    "\n",
    "    # Get shape of dataframe\n",
    "    shape = data.shape\n",
    "    print(f\"Shape: {shape}\")\n",
    "\n",
    "    # Get memory usage of dataframe\n",
    "    memory_usage = data.memory_usage(deep=True).sum()\n",
    "    print(f\"Memory Usage: {memory_usage / 1024**2:.2f} MB\")\n",
    "\n",
    "    # Get the number of null values in each column\n",
    "    null_counts = data.isnull().sum()\n",
    "    print(\"Null values:\")\n",
    "    for col, count in null_counts.items():\n",
    "        print(f\"{col}: {count}\")\n",
    "\n",
    "    # Check for duplicates in the DataFrame\n",
    "    duplicates = data[data.duplicated()]\n",
    "    if len(duplicates) > 0:\n",
    "        print(\"Duplicates:\")\n",
    "        print(duplicates)\n",
    "\n",
    "    sample = data.head(1)\n",
    "    print(f\"Question: {sample.question[0]}\")\n",
    "    print(f\"Answer: {sample.answer[0]}\")\n",
    "    print(f\"Rationale: {sample.rationale[0]}\")"
   ],
   "metadata": {
    "collapsed": false,
    "pycharm": {
     "name": "#%%\n"
    }
   }
  },
  {
   "cell_type": "code",
   "execution_count": 55,
   "outputs": [
    {
     "name": "stdout",
     "output_type": "stream",
     "text": [
      "Data path: ../data/cot_data/aqua_train.tsv\n",
      "Shape: (2728, 3)\n",
      "Memory Usage: 1.35 MB\n",
      "Null values:\n",
      "question: 0\n",
      "answer: 0\n",
      "rationale: 0\n",
      "Question: Rs. 5600 is divided into three parts A, B and C. How much A is more than C if their ratio is 1/7:1/7:1/14?\\nOptions:\\n(A) 300\\n(B) 992\\n(C) 1120\\n(D) 552\\n(E) 312\n",
      "Answer: (C)\n",
      "Rationale: 1/7:1/7:1/14 = 2:2:1\\n1/5*5600 = 1120\\n2240-1120 = 1120\n"
     ]
    }
   ],
   "source": [
    "get_data_info(AQUA_PATH)"
   ],
   "metadata": {
    "collapsed": false,
    "pycharm": {
     "name": "#%%\n"
    }
   }
  },
  {
   "cell_type": "code",
   "execution_count": 56,
   "outputs": [
    {
     "name": "stdout",
     "output_type": "stream",
     "text": [
      "Data path: ../data/cot_data/creak_train.tsv\n",
      "Shape: (6915, 3)\n",
      "Memory Usage: 2.56 MB\n",
      "Null values:\n",
      "question: 0\n",
      "answer: 0\n",
      "rationale: 0\n",
      "Question: Claim: \"Only people named Floyd wearing pink are allowed to attend Pink Floyd concerts.\"\\nIs the claim above correct, and can it be verified by human common sense and without a web search?\\nOptions:\\n- yes\\n- no\n",
      "Answer: no\n",
      "Rationale: The rock group would not be as popular is they had such requirements for their concerts.\n"
     ]
    }
   ],
   "source": [
    "get_data_info(CREAK_PATH)"
   ],
   "metadata": {
    "collapsed": false,
    "pycharm": {
     "name": "#%%\n"
    }
   }
  },
  {
   "cell_type": "code",
   "execution_count": 57,
   "outputs": [
    {
     "name": "stdout",
     "output_type": "stream",
     "text": [
      "Data path: ../data/cot_data/ecqa_train.tsv\n",
      "Shape: (7112, 3)\n",
      "Memory Usage: 3.03 MB\n",
      "Null values:\n",
      "question: 0\n",
      "answer: 0\n",
      "rationale: 0\n",
      "Question: What might a person see at the scene of a brutal killing?\\nOptions:\\n- bloody mess\\n- pleasure\\n- being imprisoned\\n- feeling of guilt\\n- cake\n",
      "Answer: bloody mess\n",
      "Rationale: Bloody mess is covered or stained with blood. A person might see a bloody mess at the scene of a brutal killing.\n"
     ]
    }
   ],
   "source": [
    "get_data_info(ECQA_PATH)"
   ],
   "metadata": {
    "collapsed": false,
    "pycharm": {
     "name": "#%%\n"
    }
   }
  },
  {
   "cell_type": "code",
   "execution_count": 58,
   "outputs": [
    {
     "name": "stdout",
     "output_type": "stream",
     "text": [
      "Data path: ../data/cot_data/esnli_train.tsv\n",
      "Shape: (36174, 3)\n",
      "Memory Usage: 15.98 MB\n",
      "Null values:\n",
      "question: 0\n",
      "answer: 0\n",
      "rationale: 0\n",
      "Question: Premise: \"Man scaling wall with fire in hand.\"\\nHypothesis: \"A man holding fire in his hand is trying to escape by scaling a wall.\"\\nDo we know that the hypothesis entailed by the premise?\n",
      "Answer: it is not possible to tell\n",
      "Rationale: Just because a man is scaling a wall doesn't imply he is trying to escape.\n"
     ]
    }
   ],
   "source": [
    "get_data_info(ESNLI_PATH)"
   ],
   "metadata": {
    "collapsed": false,
    "pycharm": {
     "name": "#%%\n"
    }
   }
  },
  {
   "cell_type": "code",
   "execution_count": 59,
   "outputs": [
    {
     "name": "stdout",
     "output_type": "stream",
     "text": [
      "Data path: ../data/cot_data/gsm8k_train.tsv\n",
      "Shape: (7473, 3)\n",
      "Memory Usage: 4.50 MB\n",
      "Null values:\n",
      "question: 0\n",
      "answer: 0\n",
      "rationale: 0\n",
      "Question: Natalia sold clips to 48 of her friends in April, and then she sold half as many clips in May. How many clips did Natalia sell altogether in April and May?\n",
      "Answer: 72\n",
      "Rationale: Natalia sold 48 / 2 = 24 clips in May. Natalia sold 48 + 24 = 72 clips altogether in April and May.\n"
     ]
    }
   ],
   "source": [
    "get_data_info(GSM8K_PATH)"
   ],
   "metadata": {
    "collapsed": false,
    "pycharm": {
     "name": "#%%\n"
    }
   }
  },
  {
   "cell_type": "code",
   "execution_count": 61,
   "outputs": [
    {
     "name": "stdout",
     "output_type": "stream",
     "text": [
      "Data path: ../data/cot_data/qasc_train.tsv\n",
      "Shape: (1084, 3)\n",
      "Memory Usage: 0.57 MB\n",
      "Null values:\n",
      "question: 0\n",
      "answer: 0\n",
      "rationale: 0\n",
      "Question: What is the process by which living things give rise to offspring?\\nOptions:\\n- (A) DNA\\n- (B) photosynthesis\\n- (C) bird\\n- (D) sex\\n- (E) subtraction\\n- (F) gametes\\n- (G) eggs\\n- (H) ovum\n",
      "Answer: (D)\n",
      "Rationale: Reproduction is the process by which living things give rise to offspring. Sex equals reproduction. Sex is the process by which living things give rise to offspring.\n"
     ]
    }
   ],
   "source": [
    "get_data_info(QASC_PATH)"
   ],
   "metadata": {
    "collapsed": false,
    "pycharm": {
     "name": "#%%\n"
    }
   }
  },
  {
   "cell_type": "code",
   "execution_count": 62,
   "outputs": [
    {
     "name": "stdout",
     "output_type": "stream",
     "text": [
      "Data path: ../data/cot_data/qed_train.tsv\n",
      "Shape: (5154, 3)\n",
      "Memory Usage: 5.45 MB\n",
      "Null values:\n",
      "question: 0\n",
      "answer: 1\n",
      "rationale: 0\n",
      "Question: Passage: Webbed toes is the common name for syndactyly affecting the feet. It is characterised by the fusion of two or more digits of the feet. This is normal in many birds, such as ducks; amphibians, such as frogs; and mammals, such as kangaroos. In humans it is considered unusual, occurring in approximately one in 2,000 to 2,500 live births.\\n\\nQuestion: Based on this passage, what is the medical term for webbed toes?\n",
      "Answer: syndactyly affecting the feet\n",
      "Rationale: The relevant information is: Webbed toes is the common name for syndactyly affecting the feet.\n"
     ]
    }
   ],
   "source": [
    "get_data_info(QED_PATH)"
   ],
   "metadata": {
    "collapsed": false,
    "pycharm": {
     "name": "#%%\n"
    }
   }
  },
  {
   "cell_type": "code",
   "execution_count": 63,
   "outputs": [
    {
     "name": "stdout",
     "output_type": "stream",
     "text": [
      "Data path: ../data/cot_data/sensemaking_train.tsv\n",
      "Shape: (6070, 3)\n",
      "Memory Usage: 2.43 MB\n",
      "Null values:\n",
      "question: 0\n",
      "answer: 0\n",
      "rationale: 0\n",
      "Question: Of the following two sentences, which one is against common sense?\\nOptions:\\n- Sentence A: \"He poured orange juice on his cereal.\"\\n- Sentence B: \"He poured milk on his cereal.\"\\n\n",
      "Answer: Sentence A\n",
      "Rationale: Orange juice does not taste good on cereal.\n"
     ]
    }
   ],
   "source": [
    "get_data_info(SENSEMAKING_PATH)"
   ],
   "metadata": {
    "collapsed": false,
    "pycharm": {
     "name": "#%%\n"
    }
   }
  },
  {
   "cell_type": "code",
   "execution_count": 64,
   "outputs": [
    {
     "name": "stdout",
     "output_type": "stream",
     "text": [
      "Data path: ../data/cot_data/strategyqa_train.tsv\n",
      "Shape: (2061, 3)\n",
      "Memory Usage: 0.81 MB\n",
      "Null values:\n",
      "question: 0\n",
      "answer: 0\n",
      "rationale: 0\n",
      "Duplicates:\n",
      "                                               question answer   \n",
      "1469  Can you find Bob Marley's face in most smoke s...    yes  \\\n",
      "\n",
      "                                              rationale  \n",
      "1469  Bob Marley's face is on the packaging of a pop...  \n",
      "Question: Are more people today related to Genghis Khan than Julius Caesar?\n",
      "Answer: yes\n",
      "Rationale: Julius Caesar had three children. Genghis Khan had sixteen children. Modern geneticists have determined thatout of every 200 men today has DNA that can be traced to Genghis Khan.\n"
     ]
    }
   ],
   "source": [
    "get_data_info(STRATEGYQA_PATH)"
   ],
   "metadata": {
    "collapsed": false,
    "pycharm": {
     "name": "#%%\n"
    }
   }
  },
  {
   "cell_type": "code",
   "execution_count": null,
   "outputs": [],
   "source": [],
   "metadata": {
    "collapsed": false,
    "pycharm": {
     "name": "#%%\n"
    }
   }
  }
 ],
 "metadata": {
  "kernelspec": {
   "display_name": "Python 3",
   "language": "python",
   "name": "python3"
  },
  "language_info": {
   "codemirror_mode": {
    "name": "ipython",
    "version": 2
   },
   "file_extension": ".py",
   "mimetype": "text/x-python",
   "name": "python",
   "nbconvert_exporter": "python",
   "pygments_lexer": "ipython2",
   "version": "2.7.6"
  }
 },
 "nbformat": 4,
 "nbformat_minor": 0
}